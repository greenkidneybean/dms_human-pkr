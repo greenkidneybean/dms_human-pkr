{
 "cells": [
  {
   "cell_type": "code",
   "execution_count": 1,
   "id": "ab2afc96-9e0a-4a16-9712-1d73533ae51a",
   "metadata": {},
   "outputs": [],
   "source": [
    "# Generates basic stats for ccs-pacbio runs from CCS subreads"
   ]
  },
  {
   "cell_type": "code",
   "execution_count": null,
   "id": "e3dffe27-bd51-416c-8109-3d4318c32b12",
   "metadata": {},
   "outputs": [],
   "source": [
    "# this is taking a while to import alignparse.targets\n",
    "import time\n",
    "import yaml\n",
    "import numpy as np\n",
    "import pandas as pd\n",
    "\n",
    "import alignparse\n",
    "import alignparse.ccs\n",
    "import alignparse.targets\n",
    "import alignparse.minimap2\n",
    "from alignparse.constants import CBPALETTE\n",
    "\n",
    "import plotnine as p9\n",
    "from plotnine import *\n",
    "import math\n",
    "import dms_variants.plotnine_themes\n",
    "import dms_variants.utils\n",
    "import seaborn as sns\n",
    "import matplotlib.pyplot as plt\n",
    "\n",
    "sns.set_context(\"talk\")\n",
    "plt.rcParams['figure.dpi'] = 300\n",
    "plt.rcParams['savefig.dpi'] = 300"
   ]
  },
  {
   "cell_type": "code",
   "execution_count": null,
   "id": "b3c4dd6f-3db6-44fc-b23e-a1da5c53d961",
   "metadata": {},
   "outputs": [],
   "source": [
    "# alignparse save directory\n",
    "save_dir = \"../../results/alignparse\"\n",
    "os.makedirs(save_dir, exist_ok=True)\n",
    "\n",
    "# alignparase img directory\n",
    "img_dir = \"../../results/alignparse/img\"\n",
    "os.makedirs(img_dir, exist_ok=True)"
   ]
  },
  {
   "cell_type": "code",
   "execution_count": null,
   "id": "7f189af4-c414-41de-8db9-8e7e3ed2d2d0",
   "metadata": {},
   "outputs": [],
   "source": [
    "data_dir = '../../data/pacbio'\n",
    "\n",
    "config_file = os.path.join(save_dir, 'pkr_config.yaml')\n",
    "with open(config_file) as f:\n",
    "    config = yaml.safe_load(f)"
   ]
  },
  {
   "cell_type": "code",
   "execution_count": null,
   "id": "dc54ac62-ac88-4cd2-90fb-b6ce37f9c757",
   "metadata": {},
   "outputs": [],
   "source": [
    "# setup pacbio run info for summaries\n",
    "# adding a fastq column in the .csv\n",
    "run_file = os.path.join(save_dir, 'pacbio_runs_summary.csv')\n",
    "    pd.read_csv(run_file, dtype=str)\n",
    "    .drop(columns=['subreads'])\n",
    "    .assign(name=lambda x: x['library'] + '.' + x['run'])\n",
    "    )\n",
    "pacbio_runs"
   ]
  },
  {
   "cell_type": "code",
   "execution_count": null,
   "id": "733ed859-cb53-4791-99d4-6d902d129884",
   "metadata": {},
   "outputs": [],
   "source": [
    "# make zwm (subreads) figure\n",
    "df_list = []\n",
    "lib = ['Run 1','Run 2']\n",
    "for file, library in zip(pacbio_runs.report, lib):\n",
    "    df = alignparse.ccs.report_to_stats(file)\n",
    "    df['name'] = library\n",
    "    df_list.append(df)\n",
    "    \n",
    "df = pd.concat(df_list)\n",
    "\n",
    "status_list = [\n",
    "    'Success -- CCS generated', \n",
    "    'Failed -- Lacking full passes', \n",
    "    'Failed -- CCS below minimum RQ']"
   ]
  },
  {
   "cell_type": "code",
   "execution_count": null,
   "id": "bdce9f69-cdca-45ec-bab2-75fd37cceeb3",
   "metadata": {},
   "outputs": [],
   "source": [
    "# could be nice to use better colors\n",
    "# also use sci-notation for y-axis\n",
    "temp_df = df[df.status.isin(status_list)]\n",
    "p = (p9.ggplot(temp_df, p9.aes(x='name', y='number', fill='status')) +\n",
    "     p9.geom_col(position=p9.position_stack(reverse=True), width=0.8) +\n",
    "     p9.theme(axis_text_x=p9.element_text(angle=90,\n",
    "                                          vjust=1,\n",
    "                                          hjust=0.5),\n",
    "              figure_size=(0.4 * len(df['name'].unique()), 2.5)\n",
    "              ) +\n",
    "     p9.ylab('# Sub-Reads (ZMWs)') +\n",
    "     p9.xlab('')\n",
    "     )\n",
    "\n",
    "if len(df['status'].unique()) < len(CBPALETTE):\n",
    "    p = p + p9.scale_fill_manual(CBPALETTE[1:])\n",
    "p\n",
    "\n",
    "plot_name = os.path.join(img_dir, 'sub-read_summary.png')\n",
    "p.save(plot_name)"
   ]
  },
  {
   "cell_type": "code",
   "execution_count": null,
   "id": "bcbee42a-6e9b-4c7b-96d9-faa1550ba267",
   "metadata": {},
   "outputs": [],
   "source": [
    "# run some stats on the quality and count of the ccs reads\n",
    "file_1 = os.path.join(data_dir, 'BCZ0017_1/CCS_1592/demultiplex.bc1009_BAK8A_OA--bc1009_BAK8A_OA.ccs_statistics.csv')\n",
    "file_2 = os.path.join(data_dir, 'BCZ0017_1/CCS_1608/demultiplex.bc1009_BAK8A_OA--bc1009_BAK8A_OA.Q20.stats.csv')\n",
    "\n",
    "ccs_file_list = [file_1, file_2]\n",
    "df_list = []\n",
    "lib = ['Run 1','Run 2']\n",
    "for file, library in zip(ccs_file_list, lib):\n",
    "    df = pd.read_csv(file)\n",
    "    df['library'] = library\n",
    "    df_list.append(df)\n",
    "df = pd.concat(df_list)\n",
    "df.reset_index(drop=True, inplace=True)\n",
    "df.rename(columns={'library':'Library'}, inplace=True)\n",
    "df.head()"
   ]
  },
  {
   "cell_type": "code",
   "execution_count": null,
   "id": "8c4e054e-00a3-474a-aa1d-91d3d4450d6e",
   "metadata": {},
   "outputs": [],
   "source": [
    "# length\n",
    "df['length'].plot.hist(bins=50)"
   ]
  },
  {
   "cell_type": "code",
   "execution_count": null,
   "id": "fda67c98-2c22-4891-bc85-31bf77d9b9cc",
   "metadata": {},
   "outputs": [],
   "source": [
    "# length\n",
    "sns.set(rc={'figure.figsize':(4.5,4)})\n",
    "ax = sns.histplot(data=df, x='length', hue='Library', bins=50, alpha=1)\n",
    "ax.set(xlabel='Read Length')\n",
    "plt.xlim(0,8000)\n",
    "fig = ax.get_figure()\n",
    "plt.tight_layout()\n",
    "sns.set_context(\"talk\")\n",
    "\n",
    "plot_name = os.path.join(img_dir, 'ccs_read-length.png')\n",
    "fig.savefig(plot_name)\n",
    "\n",
    "plt.show()"
   ]
  },
  {
   "cell_type": "code",
   "execution_count": null,
   "id": "2ffe2d9b-d45f-4069-ac00-3f230ff8c901",
   "metadata": {},
   "outputs": [],
   "source": [
    "# accuracy score\n",
    "sns.set(rc={'figure.figsize':(4.5,4)})\n",
    "ax = sns.histplot(data=df, x='readscore', hue='Library', bins=50, alpha=1)\n",
    "ax.set(xlabel='Read Accuracy')\n",
    "plt.ticklabel_format(style='plain', axis='y')\n",
    "plt.xlim(.995,1)\n",
    "fig = ax.get_figure()\n",
    "plt.tight_layout()\n",
    "sns.set_context(\"talk\")\n",
    "\n",
    "plot_name = os.path.join(img_dir, 'ccs_read-accuracy.png')\n",
    "fig.savefig(plot_name)\n",
    "\n",
    "plt.show()"
   ]
  },
  {
   "cell_type": "code",
   "execution_count": null,
   "id": "9039e06b-1cc0-4f90-9001-eb30c63d8cca",
   "metadata": {},
   "outputs": [],
   "source": [
    "# passes\n",
    "sns.set(rc={'figure.figsize':(4.1,4)})\n",
    "ax = sns.histplot(data=df, x='num_passes', hue='Library', bins=100, alpha=1)\n",
    "ax.set(xlabel='Read Passes')\n",
    "plt.xlim(0,75)\n",
    "fig = ax.get_figure()\n",
    "plt.tight_layout()\n",
    "sns.set_context(\"talk\")\n",
    "\n",
    "plot_name = os.path.join(img_dir, 'ccs_read-passes.png')\n",
    "fig.savefig(plot_name)\n",
    "\n",
    "plt.show()"
   ]
  },
  {
   "cell_type": "code",
   "execution_count": null,
   "id": "1f35ac8f-98ac-48fc-bab8-965792a2e694",
   "metadata": {},
   "outputs": [],
   "source": [
    "# donut plot of total reads that align to PKR, K3L, and junk\n",
    "df = pd.read_csv('../minimap2_summary.csv')\n",
    "df.reads.tolist()"
   ]
  },
  {
   "cell_type": "code",
   "execution_count": null,
   "id": "48b645b7-c41a-444c-a13e-ce6718a5eb07",
   "metadata": {},
   "outputs": [],
   "source": [
    "# Create a circle at the center of the plot\n",
    "names = ['PKR', 'K3L', 'Off-Target']\n",
    "size = [440228, 164648, 1739593]\n",
    "\n",
    "ax = plt.Circle( (0,0), 0.7, color='white')\n",
    "\n",
    "# Label color\n",
    "plt.rcParams['text.color'] = 'black'\n",
    "plt.pie(size, labels=names, colors = ['#6ec290', '#786bac', 'gray'])\n",
    "p = plt.gcf()\n",
    "p.gca().add_artist(ax)\n",
    "#plt.title()\n",
    "fig = ax.get_figure()\n",
    "fig.savefig('img/read_alignment.png')\n",
    "plt.show()\n",
    "plt.close()"
   ]
  },
  {
   "cell_type": "code",
   "execution_count": null,
   "id": "54a320ec-5d06-4454-8038-e0e0099bb90a",
   "metadata": {},
   "outputs": [],
   "source": [
    "# try making stacked barplot\n",
    "# import libraries\n",
    "import seaborn as sns\n",
    "import numpy as np\n",
    "import matplotlib.pyplot as plt\n",
    "import matplotlib.patches as mpatches"
   ]
  },
  {
   "cell_type": "code",
   "execution_count": null,
   "id": "31937c9f-f6a4-4979-864b-212fcdd77cac",
   "metadata": {},
   "outputs": [],
   "source": [
    "# load dataset\n",
    "tips = sns.load_dataset(\"tips\")"
   ]
  },
  {
   "cell_type": "code",
   "execution_count": null,
   "id": "0e152213-8c79-4d75-897c-20eb935473a0",
   "metadata": {},
   "outputs": [],
   "source": [
    "tips.head()"
   ]
  },
  {
   "cell_type": "code",
   "execution_count": null,
   "id": "a2b88036-4d40-414f-bccf-1507a2ac958b",
   "metadata": {},
   "outputs": [],
   "source": [
    "# top bar -> sum all values(smoker=No and smoker=Yes) to find y position of the bars\n",
    "total = tips.groupby('day')['total_bill'].sum().reset_index()\n",
    "\n",
    "# bar chart 1 -> top bars (group of 'smoker=No')\n",
    "bar1 = sns.barplot(x=\"day\",  y=\"total_bill\", data=total, color='darkblue')\n",
    "\n",
    "# bottom bar ->  take only smoker=Yes values from the data\n",
    "smoker = tips[tips.smoker=='Yes']\n",
    "\n",
    "# bar chart 2 -> bottom bars (group of 'smoker=Yes')\n",
    "bar2 = sns.barplot(x=\"day\", y=\"total_bill\", data=smoker, estimator=sum, ci=None,  color='lightblue')\n",
    "\n",
    "# add legend\n",
    "top_bar = mpatches.Patch(color='darkblue', label='smoker = No')\n",
    "bottom_bar = mpatches.Patch(color='lightblue', label='smoker = Yes')\n",
    "plt.legend(handles=[top_bar, bottom_bar])\n",
    "\n",
    "# show the graph\n",
    "plt.show()"
   ]
  },
  {
   "cell_type": "code",
   "execution_count": null,
   "id": "72d7bd5a-5526-45b4-8586-56d6eae90339",
   "metadata": {},
   "outputs": [],
   "source": [
    "df = pd.read_csv('minimap2_summary-2.csv')\n",
    "df"
   ]
  },
  {
   "cell_type": "code",
   "execution_count": null,
   "id": "79b0eb15-c87b-42f0-80dd-e53ea7728429",
   "metadata": {},
   "outputs": [],
   "source": [
    "plt.figure(figsize=(4, 6))\n",
    "\n",
    "# top bar -> sum all values(smoker=No and smoker=Yes) to find y position of the bars\n",
    "reads = df.groupby('Run')['Reads'].sum().reset_index()\n",
    "reads\n",
    "\n",
    "# bar chart 1 -> top bars (group of 'smoker=No')\n",
    "bar1 = sns.barplot(x=\"Run\",  y=\"Reads\", data=reads, color='gray')\n",
    "\n",
    "# bottom bar ->  take only smoker=Yes values from the data\n",
    "pkr = df[df.Target=='PKR']\n",
    "pkr.reset_index(drop=True, inplace=True)\n",
    "pkr.Reads = pkr.Reads.reset_index(drop=True) + df[df.Target == 'K3L'].Reads.reset_index(drop=True)\n",
    "\n",
    "# bar chart 2 -> bottom bars (group of 'smoker=Yes')\n",
    "bar2 = sns.barplot(x=\"Run\", y=\"Reads\", data=pkr, estimator=sum, ci=None,  color='#6ec290')\n",
    "\n",
    "k3l = df[df.Target=='K3L']\n",
    "bar3 = sns.barplot(x=\"Run\", y=\"Reads\", data=k3l, estimator=sum, ci=None,  color='#786bac')\n",
    "\n",
    "plt.ticklabel_format(style='plain', axis='y')\n",
    "\n",
    "# add legend\n",
    "top_bar = mpatches.Patch(color='gray', label='Off-Target')\n",
    "middle_bar = mpatches.Patch(color='#6ec290', label='PKR')\n",
    "bottom_bar = mpatches.Patch(color='#786bac', label='K3L')\n",
    "#plt.legend(loc='upper left', handles=[top_bar, middle_bar, bottom_bar])\n",
    "plt.tight_layout()\n",
    "fig = plt.gcf()\n",
    "fig.savefig('img/ccs_total-reads-bar.png')"
   ]
  },
  {
   "cell_type": "code",
   "execution_count": null,
   "id": "b62d0e35-1689-4a98-a3cf-e1b9d210c02b",
   "metadata": {},
   "outputs": [],
   "source": []
  },
  {
   "cell_type": "code",
   "execution_count": null,
   "id": "a0858585-f9fb-43c1-a0f2-b936244ba4f6",
   "metadata": {},
   "outputs": [],
   "source": []
  },
  {
   "cell_type": "code",
   "execution_count": null,
   "id": "0ec91bc2-3d4b-4102-a937-d40496db1266",
   "metadata": {},
   "outputs": [],
   "source": [
    "# plots like Bloom lab\n",
    "temp_df = df.sort_values('number', ascending=False)[:3]\n",
    "\n",
    "p = (p9.ggplot(temp_df, p9.aes(x='name', y='number', fill='status')) +\n",
    "     p9.geom_col(position=p9.position_stack(reverse=True), width=0.8) +\n",
    "     p9.theme(axis_text_x=p9.element_text(angle=90,\n",
    "                                          vjust=1,\n",
    "                                          hjust=0.5),\n",
    "              figure_size=(0.4 * len(df['name'].unique()), 2.5)\n",
    "              ) +\n",
    "     p9.ylab('number of ZMWs') +\n",
    "     p9.xlab('')\n",
    "     )\n",
    "\n",
    "if len(df['status'].unique()) < len(CBPALETTE):\n",
    "    p = p + p9.scale_fill_manual(CBPALETTE[1:])\n",
    "\n",
    "p = p + theme(panel_grid_major_x=element_blank())  # no vertical grid lines\n",
    "_ = p.draw()"
   ]
  },
  {
   "cell_type": "code",
   "execution_count": null,
   "id": "b7cc8369-f014-4eb7-8f13-c961331e0996",
   "metadata": {},
   "outputs": [],
   "source": [
    "p = p + theme(panel_grid_major_x=element_blank())  # no vertical grid lines\n",
    "_ = p.draw()"
   ]
  },
  {
   "cell_type": "code",
   "execution_count": null,
   "id": "2ef8aa21-58ae-46da-89c4-957352d08cb5",
   "metadata": {},
   "outputs": [],
   "source": [
    "p = ccs_summaries.plot_zmw_stats()\n",
    "p = p + theme(panel_grid_major_x=element_blank())  # no vertical grid lines\n",
    "_ = p.draw()\n",
    "\n"
   ]
  },
  {
   "cell_type": "code",
   "execution_count": null,
   "id": "4cb2ef17-1513-42e3-b640-3f6fad1ac69a",
   "metadata": {},
   "outputs": [],
   "source": []
  }
 ],
 "metadata": {
  "kernelspec": {
   "display_name": "Python 3 (ipykernel)",
   "language": "python",
   "name": "python3"
  },
  "language_info": {
   "codemirror_mode": {
    "name": "ipython",
    "version": 3
   },
   "file_extension": ".py",
   "mimetype": "text/x-python",
   "name": "python",
   "nbconvert_exporter": "python",
   "pygments_lexer": "ipython3",
   "version": "3.8.18"
  }
 },
 "nbformat": 4,
 "nbformat_minor": 5
}
