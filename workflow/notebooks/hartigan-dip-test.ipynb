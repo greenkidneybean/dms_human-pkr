{
 "cells": [
  {
   "cell_type": "code",
   "execution_count": 1,
   "id": "24a5ffa1-2a6c-4f8c-ab63-0ba3cb10d2c2",
   "metadata": {},
   "outputs": [],
   "source": [
    "# Hartigan's dip test\n",
    "# check for bimodal distribution for PKR functional scores separated by K3 contact sites\n",
    "\n",
    "# interpretation\n",
    "# dip - low value = unimodal, high value = multimodality (0.05)\n",
    "# pval - small indicates strong evidence against null hypothesis of unimodality\n",
    "\n",
    "# bootstrap 1e6 iterations to have the confidence in a pvalue of < 1e-5\n",
    "# https://github.com/RUrlus/diptest/issues/45\n",
    "\n",
    "# PKR functional scores versus K3-WT contact sites have a multimodal distrubution\n",
    "# PDB Contact sites - Dip: 0.10526623882697403 P-value: 0.0\n",
    "# AF2 Contact sites - Dip: 0.09081772236391696 P-value: 0.0"
   ]
  },
  {
   "cell_type": "code",
   "execution_count": 2,
   "id": "4c676fa2-89ad-46e0-adb7-9b51d859162a",
   "metadata": {},
   "outputs": [],
   "source": [
    "import pandas as pd\n",
    "import numpy as np\n",
    "import diptest # https://pypi.org/project/diptest/"
   ]
  },
  {
   "cell_type": "code",
   "execution_count": 3,
   "id": "fefe5ef8-45d3-4e13-baa4-f1a3cb2fa42f",
   "metadata": {},
   "outputs": [],
   "source": [
    "input_file = '../../results/barseq/pkr-variant-reads_240228.csv'\n",
    "df = pd.read_csv(input_file)"
   ]
  },
  {
   "cell_type": "code",
   "execution_count": 4,
   "id": "65fb3ca3-4575-4158-863d-8338eb8d6e54",
   "metadata": {},
   "outputs": [],
   "source": [
    "def pkr_type(x, pkr_stop = 551):\n",
    "    if x[-1] == \"*\" and int(x.split('-')[1][1:-1]) < pkr_stop:\n",
    "        return \"Nonsense\"\n",
    "    elif x[-2:] == 'WT':\n",
    "        return \"WT\"\n",
    "    else:\n",
    "        return 'Variant'\n",
    "df['pkr_type'] = df['pkr'].apply(pkr_type)"
   ]
  },
  {
   "cell_type": "code",
   "execution_count": 6,
   "id": "e4d6a661-14b2-4a55-9ce7-0d584d7a38a4",
   "metadata": {},
   "outputs": [],
   "source": [
    "# eIF2a contacts \n",
    "eif2a_af2 = [274,275,276,279,335,337,338,339,340,341,342,379,382,451,452,453,483,486,487,488,489,490,491,492,493]\n",
    "eif2a_pdb = [379,382,450,451,452,453,483,484,486,487,488,489,490,492,493]\n",
    "\n",
    "# k3 contact info\n",
    "pdb_contacts = [276,277,278,337,375,382,450,451,452,453,454,483,484,485,486,487,488,489,490,492,493,495,496]\n",
    "af2_contacts = [275,276,278,304,339,343,345,375,379,382,414,416,435,448,449,450,451,452,453,455,460,485,486,487,488,489,490,492,493,496]\n",
    "\n",
    "def pdb_contact(row):\n",
    "    site = row['site']\n",
    "    if site in pdb_contacts:\n",
    "        return \"K3 Contact\"\n",
    "    else:\n",
    "        return \"No Contact\"\n",
    "\n",
    "def af2_contact(row):\n",
    "    site = row['site']\n",
    "    if site in af2_contacts:\n",
    "        return \"K3 Contact\"\n",
    "    else:\n",
    "        return \"No Contact\"\n",
    "\n",
    "df['pdb_contact'] = df.apply(pdb_contact, axis=1)\n",
    "df['af2_contact'] = df.apply(af2_contact, axis=1)\n",
    "\n",
    "# differing\n",
    "#set(pdb_contacts).intersection(set(af2_contacts))\n",
    "#set(pdb_contacts) ^ set(af2_contacts)"
   ]
  },
  {
   "cell_type": "code",
   "execution_count": 17,
   "id": "b1e0b418-f05d-4e13-adaa-27ac815c5fa1",
   "metadata": {},
   "outputs": [
    {
     "name": "stdout",
     "output_type": "stream",
     "text": [
      "Hartigan dip test (1 boostrap iterations)\n",
      "K3L-Null\n",
      "Non-contact sites - Dip: 0.009357381191472718 P-value: 1.0\n",
      "Contact sites - Dip: 0.05394342196188357 P-value: 0.0\n",
      "\n",
      "K3L-WT\n",
      "Non-contact sites - Dip: 0.01606227717043062 P-value: 1.0\n",
      "Contact sites - Dip: 0.10526623882697403 P-value: 0.0\n",
      "\n",
      "K3L-H47R\n",
      "Non-contact sites - Dip: 0.018717475160905894 P-value: 0.0\n",
      "Contact sites - Dip: 0.021399107101934947 P-value: 1.0\n",
      "\n",
      "###\n",
      "\n",
      "Hartigan dip test (1000.0 boostrap iterations)\n",
      "K3L-Null\n",
      "Non-contact sites - Dip: 0.009357381191472718 P-value: 1.0\n",
      "Contact sites - Dip: 0.05394342196188357 P-value: 0.013\n",
      "\n",
      "K3L-WT\n",
      "Non-contact sites - Dip: 0.01606227717043062 P-value: 0.904\n",
      "Contact sites - Dip: 0.10526623882697403 P-value: 0.0\n",
      "\n",
      "K3L-H47R\n",
      "Non-contact sites - Dip: 0.018717475160905894 P-value: 0.692\n",
      "Contact sites - Dip: 0.021399107101934947 P-value: 0.992\n",
      "\n",
      "###\n",
      "\n",
      "Hartigan dip test (1000000.0 boostrap iterations)\n",
      "K3L-Null\n",
      "Non-contact sites - Dip: 0.009357381191472718 P-value: 1.0\n",
      "Contact sites - Dip: 0.05394342196188357 P-value: 0.010703\n",
      "\n",
      "K3L-WT\n",
      "Non-contact sites - Dip: 0.01606227717043062 P-value: 0.90331\n",
      "Contact sites - Dip: 0.10526623882697403 P-value: 0.0\n",
      "\n",
      "K3L-H47R\n",
      "Non-contact sites - Dip: 0.018717475160905894 P-value: 0.694953\n",
      "Contact sites - Dip: 0.021399107101934947 P-value: 0.986198\n",
      "\n",
      "###\n",
      "\n"
     ]
    }
   ],
   "source": [
    "# pdb contacts\n",
    "for i in [1,1e3,1e6]: # n bootstrap iterations\n",
    "    print(f\"Hartigan dip test ({i} boostrap iterations)\\n\")\n",
    "    for k3, k3_name in zip(['K3L-Null','K3L-WT','K3L-H47R'],[\"K3Δ58\",\"K3-WT\",\"K3-H47R\"]):\n",
    "        temp_df = df.query('k3 == @k3 and pkr_type != \"Nonsense\"')\n",
    "    \n",
    "        print(k3)\n",
    "        \n",
    "        no_contact = temp_df.query(\"pdb_contact == 'No Contact'\")['auc_mean'].values\n",
    "        dip, pval = diptest.diptest(no_contact, boot_pval=True, n_boot=int(i))\n",
    "        print(f\"Non-contact sites - Dip: {dip} P-value: {pval}\")\n",
    "        \n",
    "        contact = temp_df.query(\"pdb_contact == 'K3 Contact'\")['auc_mean'].values\n",
    "        dip, pval = diptest.diptest(contact, boot_pval=True, n_boot=int(i))\n",
    "        print(f\"Contact sites - Dip: {dip} P-value: {pval}\")\n",
    "        print()\n",
    "    print(\"###\\n\")"
   ]
  },
  {
   "cell_type": "code",
   "execution_count": 18,
   "id": "0036d10f-ad14-4128-bc85-f15b28fc07a5",
   "metadata": {},
   "outputs": [
    {
     "name": "stdout",
     "output_type": "stream",
     "text": [
      "Hartigan dip test (1 boostrap iterations)\n",
      "\n",
      "K3L-Null\n",
      "Non-contact sites - Dip: 0.011537036343668006 P-value: 1.0\n",
      "Contact sites - Dip: 0.04391630888567744 P-value: 0.0\n",
      "\n",
      "K3L-WT\n",
      "Non-contact sites - Dip: 0.016479237319341117 P-value: 1.0\n",
      "Contact sites - Dip: 0.09081772236391696 P-value: 0.0\n",
      "\n",
      "K3L-H47R\n",
      "Non-contact sites - Dip: 0.016447520721817658 P-value: 1.0\n",
      "Contact sites - Dip: 0.0248762285048945 P-value: 1.0\n",
      "\n",
      "###\n",
      "\n",
      "Hartigan dip test (1000.0 boostrap iterations)\n",
      "\n",
      "K3L-Null\n",
      "Non-contact sites - Dip: 0.011537036343668006 P-value: 0.998\n",
      "Contact sites - Dip: 0.04391630888567744 P-value: 0.089\n",
      "\n",
      "K3L-WT\n",
      "Non-contact sites - Dip: 0.016479237319341117 P-value: 0.881\n",
      "Contact sites - Dip: 0.09081772236391696 P-value: 0.0\n",
      "\n",
      "K3L-H47R\n",
      "Non-contact sites - Dip: 0.016447520721817658 P-value: 0.892\n",
      "Contact sites - Dip: 0.0248762285048945 P-value: 0.892\n",
      "\n",
      "###\n",
      "\n",
      "Hartigan dip test (1000000.0 boostrap iterations)\n",
      "\n",
      "K3L-Null\n",
      "Non-contact sites - Dip: 0.011537036343668006 P-value: 0.999584\n",
      "Contact sites - Dip: 0.04391630888567744 P-value: 0.086016\n",
      "\n",
      "K3L-WT\n",
      "Non-contact sites - Dip: 0.016479237319341117 P-value: 0.879703\n",
      "Contact sites - Dip: 0.09081772236391696 P-value: 0.0\n",
      "\n",
      "K3L-H47R\n",
      "Non-contact sites - Dip: 0.016447520721817658 P-value: 0.881889\n",
      "Contact sites - Dip: 0.0248762285048945 P-value: 0.907648\n",
      "\n",
      "###\n",
      "\n"
     ]
    }
   ],
   "source": [
    "# af2 contacts\n",
    "for i in [1,1e3,1e6]: # n bootstrap iterations\n",
    "    print(f\"Hartigan dip test ({i} boostrap iterations)\\n\")\n",
    "    for k3, k3_name in zip(['K3L-Null','K3L-WT','K3L-H47R'],[\"K3Δ58\",\"K3-WT\",\"K3-H47R\"]):\n",
    "        temp_df = df.query('k3 == @k3 and pkr_type != \"Nonsense\"')\n",
    "    \n",
    "        print(k3)\n",
    "        \n",
    "        no_contact = temp_df.query(\"af2_contact == 'No Contact'\")['auc_mean'].values\n",
    "        dip, pval = diptest.diptest(no_contact, boot_pval=True, n_boot=int(i))\n",
    "        print(f\"Non-contact sites - Dip: {dip} P-value: {pval}\")\n",
    "        \n",
    "        contact = temp_df.query(\"af2_contact == 'K3 Contact'\")['auc_mean'].values\n",
    "        dip, pval = diptest.diptest(contact, boot_pval=True, n_boot=int(i))\n",
    "        print(f\"Contact sites - Dip: {dip} P-value: {pval}\")\n",
    "        print()\n",
    "    print(\"###\\n\")"
   ]
  },
  {
   "cell_type": "code",
   "execution_count": 19,
   "id": "fd0cc40e-c462-4cfb-be0d-522fd572a07e",
   "metadata": {},
   "outputs": [],
   "source": [
    "# pdb contacts are still pval 0 for K3-WT, 1e7 iterations"
   ]
  },
  {
   "cell_type": "code",
   "execution_count": 7,
   "id": "493f27a2-ca7c-4a21-b610-f2cff18c94b0",
   "metadata": {},
   "outputs": [
    {
     "name": "stdout",
     "output_type": "stream",
     "text": [
      "Hartigan dip test (1000.0 boostrap iterations)\n",
      "\n",
      "K3L-WT\n",
      "Non-contact sites - Dip: 0.01606227717043062 P-value: 0.897\n",
      "Contact sites - Dip: 0.10526623882697403 P-value: 0.0\n",
      "\n",
      "###\n",
      "\n"
     ]
    }
   ],
   "source": [
    "# test, pdb contacts\n",
    "for i in [1e3]: # n bootstrap iterations\n",
    "    print(f\"Hartigan dip test ({i} boostrap iterations)\\n\")\n",
    "    for k3, k3_name in zip(['K3L-WT'],[\"K3-WT\"]):\n",
    "        temp_df = df.query('k3 == @k3 and pkr_type != \"Nonsense\"')\n",
    "    \n",
    "        print(k3)\n",
    "        \n",
    "        no_contact = temp_df.query(\"pdb_contact == 'No Contact'\")['auc_mean'].values\n",
    "        dip, pval = diptest.diptest(no_contact, boot_pval=True, n_boot=int(i))\n",
    "        print(f\"Non-contact sites - Dip: {dip} P-value: {pval}\")\n",
    "        \n",
    "        contact = temp_df.query(\"pdb_contact == 'K3 Contact'\")['auc_mean'].values\n",
    "        dip, pval = diptest.diptest(contact, boot_pval=True, n_boot=int(i))\n",
    "        print(f\"Contact sites - Dip: {dip} P-value: {pval}\")\n",
    "        print()\n",
    "    print(\"###\\n\")"
   ]
  },
  {
   "cell_type": "code",
   "execution_count": null,
   "id": "6216c4b5-7e4f-4080-919b-49a80d957a46",
   "metadata": {},
   "outputs": [],
   "source": []
  }
 ],
 "metadata": {
  "kernelspec": {
   "display_name": "Python 3 (ipykernel)",
   "language": "python",
   "name": "python3"
  },
  "language_info": {
   "codemirror_mode": {
    "name": "ipython",
    "version": 3
   },
   "file_extension": ".py",
   "mimetype": "text/x-python",
   "name": "python",
   "nbconvert_exporter": "python",
   "pygments_lexer": "ipython3",
   "version": "3.8.18"
  }
 },
 "nbformat": 4,
 "nbformat_minor": 5
}
