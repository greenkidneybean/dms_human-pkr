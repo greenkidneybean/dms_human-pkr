{
 "cells": [
  {
   "cell_type": "code",
   "execution_count": null,
   "id": "f92d4802-b073-4f58-8302-6ce3629dea88",
   "metadata": {},
   "outputs": [],
   "source": [
    "# alignparse-environment"
   ]
  },
  {
   "cell_type": "code",
   "execution_count": null,
   "id": "d684e41e-fd38-411c-abed-0eb5ef97020c",
   "metadata": {},
   "outputs": [],
   "source": [
    "# need paths to .fastq and ccs summaries\n",
    "# reads from ccs_1592 and ccs_1608"
   ]
  },
  {
   "cell_type": "code",
   "execution_count": null,
   "id": "e7450937-c6ae-4ecd-8445-736dac332338",
   "metadata": {},
   "outputs": [],
   "source": [
    "# this is taking a while to import alignparse.targets\n",
    "import time\n",
    "import yaml\n",
    "import numpy as np\n",
    "import pandas as pd\n",
    "\n",
    "import alignparse\n",
    "import alignparse.targets\n",
    "import alignparse.minimap2\n",
    "from alignparse.constants import CBPALETTE\n",
    "\n",
    "from plotnine import *\n",
    "import math"
   ]
  },
  {
   "cell_type": "code",
   "execution_count": null,
   "id": "5d232b1b-2016-4a0e-9762-4cb6c6db855a",
   "metadata": {},
   "outputs": [],
   "source": [
    "# setup the config file\n",
    "with open('pkr_config.yaml') as f:\n",
    "    config = yaml.safe_load(f)\n",
    "config"
   ]
  },
  {
   "cell_type": "code",
   "execution_count": null,
   "id": "83ec1c9f-e077-4bec-8b9e-6a270eb2b3c4",
   "metadata": {},
   "outputs": [],
   "source": [
    "# setup alignparse targets\n",
    "targets = alignparse.targets.Targets(\n",
    "                seqsfile=config['amplicons'],\n",
    "                feature_parse_specs=config['feature_parse_specs'])"
   ]
  },
  {
   "cell_type": "code",
   "execution_count": null,
   "id": "ef002440-98cd-4413-bcb0-aa888e60da89",
   "metadata": {},
   "outputs": [],
   "source": [
    "# plot targets\n",
    "fig = targets.plot(ax_width=7,\n",
    "                   plots_indexing='biopython',  # numbering starts at 0\n",
    "                   ax_height=2,  # height of each plot\n",
    "                   hspace=1.2,  # vertical space between plots\n",
    "                   )"
   ]
  },
  {
   "cell_type": "code",
   "execution_count": null,
   "id": "405afe90-dd82-4ff4-be87-b7a7fc9ec031",
   "metadata": {},
   "outputs": [],
   "source": [
    "# check the specs used to parse the target amplicons\n",
    "print(targets.feature_parse_specs('yaml'))"
   ]
  },
  {
   "cell_type": "code",
   "execution_count": null,
   "id": "d3d4951a-237f-48f9-9834-fc9db0a0e0f5",
   "metadata": {},
   "outputs": [],
   "source": [
    "# setup pacbio run info\n",
    "\n",
    "# adding a fastq column in the .csv\n",
    "pacbio_runs = (\n",
    "    pd.read_csv(config['pacbio_runs'], dtype=str)\n",
    "    .drop(columns=['subreads'])\n",
    "    .assign(name=lambda x: x['library'] + '.' + x['run'])\n",
    "    )\n",
    "pacbio_runs"
   ]
  },
  {
   "cell_type": "code",
   "execution_count": null,
   "id": "5626205f-73cd-49cc-8431-720acae74087",
   "metadata": {},
   "outputs": [],
   "source": [
    "pacbio_runs['fastq'][0]"
   ]
  },
  {
   "cell_type": "code",
   "execution_count": null,
   "id": "40e2e4a0-adf6-485d-9959-ec99eef1e6e3",
   "metadata": {},
   "outputs": [],
   "source": [
    "# setup minimap2\n",
    "# I need to figure out how to specify minimap 2 arguments\n",
    "# currently calling: '-A2', '-B4', '-O12', '-E2', '--end-bonus=13', '--secondary=no', '--cs'\n",
    "mapper = alignparse.minimap2.Mapper(alignparse.minimap2.OPTIONS_CODON_DMS)\n",
    "\n",
    "# add more cpus to minimap2\n",
    "#mapper.options = mapper.options + [f\"-t {config['max_cpus']}\"]\n",
    "mapper.options = mapper.options + [f\"-t 10\"]\n",
    "mapper.options"
   ]
  },
  {
   "cell_type": "code",
   "execution_count": null,
   "id": "680970ab-40e4-431b-932a-8fb3dd036887",
   "metadata": {},
   "outputs": [],
   "source": [
    "### THE MEAT\n",
    "# align and parse pacbio reads to target amplicons\n",
    "\n",
    "# how long does this take\n",
    "start = time.time()\n",
    "\n",
    "readstats_csv, aligned_csv, filtered_csv = targets.align_and_parse(\n",
    "        df=pacbio_runs,\n",
    "        mapper=mapper,\n",
    "        outdir=config['process_ccs_dir'],\n",
    "        name_col='run',\n",
    "        group_cols=['name', 'library'],\n",
    "        queryfile_col='fastq',\n",
    "        overwrite=True,\n",
    "        ncpus=config['max_cpus'],\n",
    "        to_csv=True\n",
    "        )\n",
    "print('Time: ', time.time() - start)"
   ]
  },
  {
   "cell_type": "code",
   "execution_count": null,
   "id": "2e91e52e-8fd1-4ab9-853c-428327bbd9d0",
   "metadata": {},
   "outputs": [],
   "source": [
    "# save readstats_csv\n",
    "readstats_csv.to_csv(config['process_ccs_dir'] + '/readstats.csv', index=False)"
   ]
  },
  {
   "cell_type": "code",
   "execution_count": null,
   "id": "c5173d35-95ce-4874-a73d-73a3e685ca54",
   "metadata": {},
   "outputs": [],
   "source": [
    "# plot readstats\n",
    "start = time.time()\n",
    "readstats_csv = readstats_csv.assign(\n",
    "    category_all_targets=lambda x: x['category'].str.split().str[0],\n",
    "    target=lambda x: x['category'].str.split(None, 1).str[1],\n",
    "    valid=lambda x: x['category_all_targets'] == 'aligned')\n",
    "\n",
    "ncol = 7\n",
    "p = (\n",
    "    ggplot(readstats_csv\n",
    "           .groupby(['name', 'category_all_targets', 'valid'])\n",
    "           .aggregate({'count': 'sum'})\n",
    "           .reset_index(),\n",
    "           aes('category_all_targets', 'count', fill='valid')) +\n",
    "    geom_bar(stat='identity') +\n",
    "    facet_wrap('~ name', ncol=ncol) +\n",
    "    theme(axis_text_x=element_text(angle=90),\n",
    "          figure_size=(1.85 * min(ncol, len(pacbio_runs)),\n",
    "                       2 * math.ceil(len(pacbio_runs) / ncol)),\n",
    "          panel_grid_major_x=element_blank(),\n",
    "          legend_position='none',\n",
    "          ) +\n",
    "    scale_fill_manual(values=CBPALETTE)\n",
    "    )\n",
    "\n",
    "p.save('img/rev_readstats.png')\n",
    "_ = p.draw()\n",
    "\n",
    "print('Time:', time.time() - start)"
   ]
  },
  {
   "cell_type": "code",
   "execution_count": null,
   "id": "ebceff91-8b59-4f43-a508-2ac73b44a366",
   "metadata": {},
   "outputs": [],
   "source": [
    "# create filtered_df\n",
    "# this should be a dictionary of dfs\n",
    "filtered = {}\n",
    "for key, value in filtered_csv.items():\n",
    "    filtered[key] = pd.read_csv(value)\n",
    "\n",
    "# reasons reads are being filtered out\n",
    "other_cutoff = 0.02  # group as \"other\" reasons with <= this frac\n",
    "\n",
    "filtered_df = (\n",
    "    pd.concat(df.assign(target=target) for target, df in filtered.items())\n",
    "    .groupby(['library', 'name', 'run', 'filter_reason'])\n",
    "    .size()\n",
    "    .rename('count')\n",
    "    .reset_index()\n",
    "    .assign(tot_reason_frac=lambda x: (x.groupby('filter_reason')['count']\n",
    "                                       .transform('sum')) / x['count'].sum(),\n",
    "            filter_reason=lambda x: np.where(x['tot_reason_frac'] > other_cutoff,\n",
    "                                                x['filter_reason'],\n",
    "                                                'other')\n",
    "            )\n",
    "    )\n",
    "\n",
    "# plot reasons why reads were filtered from each library\n",
    "ncol = 7\n",
    "nreasons = filtered_df['filter_reason'].nunique()\n",
    "\n",
    "p = (\n",
    "    ggplot(filtered_df, aes('filter_reason', 'count')) +\n",
    "    geom_bar(stat='identity') +\n",
    "    facet_wrap('~ name', ncol=ncol) +\n",
    "    theme(axis_text_x=element_text(angle=90),\n",
    "          figure_size=(0.25 * nreasons * min(ncol, len(pacbio_runs)),\n",
    "                       2 * math.ceil(len(pacbio_runs) / ncol)),\n",
    "          panel_grid_major_x=element_blank(),\n",
    "          )\n",
    "    )\n",
    "p.save('img/rev_filtered.png')\n",
    "_ = p.draw()"
   ]
  },
  {
   "cell_type": "code",
   "execution_count": null,
   "id": "034df1ea-0ea6-4284-9256-d97ed92f2b67",
   "metadata": {},
   "outputs": [],
   "source": [
    "# count total filtered variants total\n",
    "filtered_df['count'].sum()"
   ]
  },
  {
   "cell_type": "code",
   "execution_count": null,
   "id": "e912b548-23a4-4722-8c76-f0e94d39aa2a",
   "metadata": {},
   "outputs": [],
   "source": [
    "# combine runs for each library\n",
    "p = (\n",
    "    ggplot(filtered_df\n",
    "           .groupby(['library', 'filter_reason'])\n",
    "           .aggregate({'count': 'sum'})\n",
    "           .reset_index(),\n",
    "           aes('filter_reason', 'count')) +\n",
    "    geom_bar(stat='identity') +\n",
    "    facet_wrap('~ library', nrow=1) +\n",
    "    theme(axis_text_x=element_text(angle=90),\n",
    "          figure_size=(0.3 * nreasons * pacbio_runs['library'].nunique(), 2),\n",
    "          panel_grid_major_x=element_blank(),\n",
    "          )\n",
    "    )\n",
    "_ = p.draw()"
   ]
  },
  {
   "cell_type": "code",
   "execution_count": null,
   "id": "b7447dba-31f9-41bc-a8bb-066b2b67c6cb",
   "metadata": {},
   "outputs": [],
   "source": [
    "# save aligned reads as processed_ccs file\n",
    "aligned = {}\n",
    "for key, value in aligned_csv.items():\n",
    "    aligned[key] = pd.read_csv(value)\n",
    "\n",
    "aligned_df = (\n",
    "    pd.concat(df.assign(target=target) for target, df in aligned.items())\n",
    "    .drop(columns=['query_clip5', 'query_clip3', 'run','name'])\n",
    "    .rename(columns={'barcode_sequence': 'barcode'})\n",
    "    )\n",
    "# write aligned reads to a processed ccs file\n",
    "aligned_df.to_csv(config['processed_ccs_file'], index=False)"
   ]
  },
  {
   "cell_type": "code",
   "execution_count": null,
   "id": "1949e2d7-8b26-407d-be88-d53d45150ab6",
   "metadata": {},
   "outputs": [],
   "source": [
    "# plot the number of reads per target \n",
    "p = (\n",
    "    ggplot(readstats_csv\n",
    "           .groupby(['target'])\n",
    "           .aggregate({'count': 'sum'})\n",
    "           .reset_index(), \n",
    "           aes('target', 'count')) +\n",
    "    geom_point(stat='identity', size=3) +\n",
    "    theme(axis_text_x=element_text(angle=90),\n",
    "          figure_size=(0.3 * readstats_csv['target'].nunique(), 2),\n",
    "          panel_grid_major_x=element_blank(),\n",
    "          ) +\n",
    "    scale_y_log10(name='number of reads')\n",
    "    )\n",
    "_ = p.draw()"
   ]
  },
  {
   "cell_type": "code",
   "execution_count": null,
   "id": "c5bc18a2-9d98-4547-819f-96e1d0f4cb09",
   "metadata": {},
   "outputs": [],
   "source": [
    "# plot aligned vs filtered reads per target\n",
    "p = (\n",
    "    ggplot(readstats_csv\n",
    "           .groupby(['target', 'valid'])\n",
    "           .aggregate({'count': 'sum'})\n",
    "           .reset_index()\n",
    "           .assign(total=lambda x: x.groupby('target')['count'].transform('sum'),\n",
    "                   frac=lambda x: x['count'] / x['total'],\n",
    "                   ), \n",
    "           aes('target', 'frac', fill='valid')) +\n",
    "    geom_bar(stat='identity') +\n",
    "    theme(axis_text_x=element_text(angle=90),\n",
    "          figure_size=(0.5 * readstats_csv['target'].nunique(), 2),\n",
    "          panel_grid_major_x=element_blank(),\n",
    "          ) +\n",
    "    scale_fill_manual(values=CBPALETTE)\n",
    "    )\n",
    "_ = p.draw()"
   ]
  },
  {
   "cell_type": "code",
   "execution_count": null,
   "id": "3f295150-86ab-491b-bc56-98f116bcdaf9",
   "metadata": {},
   "outputs": [],
   "source": [
    "# create filtered_df\n",
    "# this should be a dictionary of dfs\n",
    "filtered = {}\n",
    "for key, value in filtered_csv.items():\n",
    "    filtered[key] = pd.read_csv(value)\n",
    "\n",
    "# reasons reads are being filtered out\n",
    "other_cutoff = 0.02  # group as \"other\" reasons with <= this frac\n",
    "\n",
    "filtered_df = (\n",
    "    pd.concat(df.assign(target=target) for target, df in filtered.items())\n",
    "    .groupby(['library', 'name', 'run', 'filter_reason'])\n",
    "    .size()\n",
    "    .rename('count')\n",
    "    .reset_index()\n",
    "    .assign(tot_reason_frac=lambda x: (x.groupby('filter_reason')['count']\n",
    "                                       .transform('sum')) / x['count'].sum(),\n",
    "            filter_reason=lambda x: np.where(x['tot_reason_frac'] > other_cutoff,\n",
    "                                                x['filter_reason'],\n",
    "                                                'other')\n",
    "            )\n",
    "    )"
   ]
  },
  {
   "cell_type": "code",
   "execution_count": null,
   "id": "f34f9419-4a8b-4847-9faa-6754c384eea8",
   "metadata": {},
   "outputs": [],
   "source": [
    "# plot reasons why reads were filtered from each library\n",
    "ncol = 7\n",
    "nreasons = filtered_df['filter_reason'].nunique()\n",
    "\n",
    "p = (\n",
    "    ggplot(filtered_df, aes('filter_reason', 'count')) +\n",
    "    geom_bar(stat='identity') +\n",
    "    facet_wrap('~ name', ncol=ncol) +\n",
    "    theme(axis_text_x=element_text(angle=90),\n",
    "          figure_size=(0.25 * nreasons * min(ncol, len(pacbio_runs)),\n",
    "                       2 * math.ceil(len(pacbio_runs) / ncol)),\n",
    "          panel_grid_major_x=element_blank(),\n",
    "          )\n",
    "    )\n",
    "_ = p.draw()"
   ]
  },
  {
   "cell_type": "code",
   "execution_count": null,
   "id": "23aa0a97-8d96-42a1-b3bf-c46e3d25220a",
   "metadata": {},
   "outputs": [],
   "source": [
    "# combine runs for each library\n",
    "p = (\n",
    "    ggplot(filtered_df\n",
    "           .groupby(['library', 'filter_reason'])\n",
    "           .aggregate({'count': 'sum'})\n",
    "           .reset_index(),\n",
    "           aes('filter_reason', 'count')) +\n",
    "    geom_bar(stat='identity') +\n",
    "    facet_wrap('~ library', nrow=1) +\n",
    "    theme(axis_text_x=element_text(angle=90),\n",
    "          figure_size=(0.3 * nreasons * pacbio_runs['library'].nunique(), 2),\n",
    "          panel_grid_major_x=element_blank(),\n",
    "          )\n",
    "    )\n",
    "_ = p.draw()"
   ]
  },
  {
   "cell_type": "code",
   "execution_count": null,
   "id": "10c5f891-a50d-490b-8fea-70246c49909b",
   "metadata": {},
   "outputs": [],
   "source": [
    "# view aligned reads\n",
    "aligned = {}\n",
    "for key, value in aligned_csv.items():\n",
    "    aligned[key] = pd.read_csv(value)\n",
    "\n",
    "aligned_df = (\n",
    "    pd.concat(df.assign(target=target) for target, df in aligned.items())\n",
    "    .drop(columns=['query_clip5', 'query_clip3', 'run','name'])\n",
    "    .rename(columns={'barcode_sequence': 'barcode'})\n",
    "    )\n",
    "# write aligned reads to a processed ccs file\n",
    "aligned_df.to_csv(config['processed_ccs_file'], index=False)"
   ]
  },
  {
   "cell_type": "code",
   "execution_count": null,
   "id": "3822e4d5-135b-47d2-94b9-826cc4f77bbe",
   "metadata": {},
   "outputs": [],
   "source": []
  }
 ],
 "metadata": {
  "kernelspec": {
   "display_name": "Python 3 (ipykernel)",
   "language": "python",
   "name": "python3"
  },
  "language_info": {
   "codemirror_mode": {
    "name": "ipython",
    "version": 3
   },
   "file_extension": ".py",
   "mimetype": "text/x-python",
   "name": "python",
   "nbconvert_exporter": "python",
   "pygments_lexer": "ipython3",
   "version": "3.8.18"
  }
 },
 "nbformat": 4,
 "nbformat_minor": 5
}
